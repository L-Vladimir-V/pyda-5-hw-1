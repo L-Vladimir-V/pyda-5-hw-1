{
 "cells": [
  {
   "cell_type": "markdown",
   "metadata": {},
   "source": [
    " # Основы Python "
   ]
  },
  {
   "cell_type": "markdown",
   "metadata": {},
   "source": [
    "## Задание 1 "
   ]
  },
  {
   "cell_type": "code",
   "execution_count": 9,
   "metadata": {},
   "outputs": [
    {
     "name": "stdout",
     "output_type": "stream",
     "text": [
      "Фраза 1 длиннее фразы 2\n"
     ]
    }
   ],
   "source": [
    "phrase_1 = 'Насколько проще было бы писать программы, если бы не заказчики'\n",
    "phrase_2 = '640Кб должно хватить для любых задач. Билл Гейтс (по легенде)'\n",
    "if len(phrase_1) >= len(phrase_2):\n",
    "    if len(phrase_1) == len(phrase_2):\n",
    "        print('Фразы равной длины')\n",
    "    else:\n",
    "        print('Фраза 1 длиннее фразы 2')\n",
    "else:\n",
    "    print('Фраза 2 длиннее фразы 1')\n"
   ]
  },
  {
   "cell_type": "markdown",
   "metadata": {},
   "source": [
    "## Задание 2 "
   ]
  },
  {
   "cell_type": "code",
   "execution_count": 11,
   "metadata": {},
   "outputs": [
    {
     "name": "stdout",
     "output_type": "stream",
     "text": [
      "Введите год: 1900\n",
      "Обычный год\n"
     ]
    }
   ],
   "source": [
    "p_year = int(input('Введите год: '))\n",
    "if p_year % 4 == 0:\n",
    "    if p_year % 100 == 0:\n",
    "        if p_year % 400 == 0:\n",
    "            print('Високосный год')\n",
    "        else:\n",
    "            print('Обычный год')\n",
    "    else:\n",
    "        print('Високосный год')\n",
    "else:\n",
    "    print('Обычный год')"
   ]
  },
  {
   "cell_type": "markdown",
   "metadata": {},
   "source": [
    "## Задание 3 "
   ]
  },
  {
   "cell_type": "code",
   "execution_count": 12,
   "metadata": {},
   "outputs": [
    {
     "name": "stdout",
     "output_type": "stream",
     "text": [
      "Введите месяц: октябрь\n",
      "Введите день: 1\n",
      "Весы\n"
     ]
    }
   ],
   "source": [
    "user_bd_month = str (input('Введите месяц: '))\n",
    "user_bd_day = int(input('Введите день: '))\n",
    "if user_bd_month.lower() == 'январь':\n",
    "    if 1 <= user_bd_day <= 20:\n",
    "        print('Козерог')\n",
    "    else:\n",
    "        print('Водолей')\n",
    "elif user_bd_month.lower() == 'февраль':\n",
    "    if 1 <= user_bd_day <= 18:\n",
    "        print('Водолей')\n",
    "    else:\n",
    "        print('Рыбы')\n",
    "elif user_bd_month.lower() == 'март':\n",
    "    if 1 <= user_bd_day <= 20:\n",
    "        print('Рыбы')\n",
    "    else:\n",
    "        print('Овен')\n",
    "elif user_bd_month.lower() == 'апрель':\n",
    "    if 1 <= user_bd_day <= 20:\n",
    "        print('Овен')\n",
    "    else:\n",
    "        print('Телец')\n",
    "elif user_bd_month.lower() == 'май':\n",
    "    if 1 <= user_bd_day <= 20:\n",
    "        print('Телец')\n",
    "    else:\n",
    "        print('Близнецы')\n",
    "elif user_bd_month.lower() == 'июнь':\n",
    "    if 1 <= user_bd_day <= 21:\n",
    "        print('Близнецы')\n",
    "    else:\n",
    "        print('Рак')\n",
    "elif user_bd_month.lower() == 'июль':\n",
    "    if 1 <= user_bd_day <= 22:\n",
    "        print('Рак')\n",
    "    else:\n",
    "        print('Лев')\n",
    "elif user_bd_month.lower() == 'август':\n",
    "    if 1 <= user_bd_day <= 23:\n",
    "        print('Лев')\n",
    "    else:\n",
    "        print('Дева')\n",
    "elif user_bd_month.lower() == 'сентябрь':\n",
    "    if 1 <= user_bd_day <= 23:\n",
    "        print('Дева')\n",
    "    else:\n",
    "        print('Весы')\n",
    "elif user_bd_month.lower() == 'октябрь':\n",
    "    if 1 <= user_bd_day <= 23:\n",
    "        print('Весы')\n",
    "    else:\n",
    "        print('Скорпион')\n",
    "elif user_bd_month.lower() == 'ноябрь':\n",
    "    if 1 <= user_bd_day <= 22:\n",
    "        print('Скорпион')\n",
    "    else:\n",
    "        print('Стрелец')\n",
    "elif user_bd_month.lower() == 'декабрь':\n",
    "    if 1 <= user_bd_day <= 21:\n",
    "        print('Стрелец')\n",
    "    else:\n",
    "        print('Козерог')\n",
    "    \n",
    "  "
   ]
  },
  {
   "cell_type": "markdown",
   "metadata": {},
   "source": [
    "## Задание 4"
   ]
  },
  {
   "cell_type": "code",
   "execution_count": 17,
   "metadata": {},
   "outputs": [
    {
     "name": "stdout",
     "output_type": "stream",
     "text": [
      "Введите ширину в см: 2\n",
      "Введите длину в см: 200\n",
      "Введите высоту в см: 1\n",
      "Упаковка для лыж\n"
     ]
    }
   ],
   "source": [
    "width = int(input('Введите ширину в см: '))\n",
    "length = int(input('Введите длину в см: '))\n",
    "height = int(input('Введите высоту в см: '))\n",
    "if length >= 200:\n",
    "    print('Упаковка для лыж')\n",
    "elif 15 < width < 50   or  (15 < length < 50 ) or (15 < height < 50 ):\n",
    "    print('Коробка №2')\n",
    "elif width <= 15 and length <= 15 and height <= 15:\n",
    "    print('Коробка №1')\n",
    "else:\n",
    "    print('Стандартная коробка №3')\n",
    "        "
   ]
  },
  {
   "cell_type": "markdown",
   "metadata": {},
   "source": [
    "## Задание 5 (необязательное)"
   ]
  },
  {
   "cell_type": "code",
   "execution_count": 34,
   "metadata": {},
   "outputs": [
    {
     "name": "stdout",
     "output_type": "stream",
     "text": [
      "Введите шестизначный номер билета: 123654789\n",
      "Неправильный номер билета\n"
     ]
    }
   ],
   "source": [
    "ticket = str(input('Введите шестизначный номер билета: '))\n",
    "if len(ticket) != 6:\n",
    "    print('Неправильный номер билета')\n",
    "else:\n",
    "    if (int(ticket[0]) + int(ticket[1]) + int(ticket[2])) == (int(ticket[3]) + int(ticket[4]) + int(ticket[5])):\n",
    "        print('Счастливый билет')\n",
    "    else:\n",
    "        print('Неасчастливый билет')\n"
   ]
  },
  {
   "cell_type": "markdown",
   "metadata": {},
   "source": [
    "## Задание 6 (необязательное)"
   ]
  },
  {
   "cell_type": "code",
   "execution_count": 38,
   "metadata": {
    "scrolled": true
   },
   "outputs": [
    {
     "name": "stdout",
     "output_type": "stream",
     "text": [
      "Площадь какой фигуры вы хотите вычислить\n",
      "Если круг введите 1, треугольник - 2, прямоугольник - 3 9\n",
      "Не верно введено число\n"
     ]
    }
   ],
   "source": [
    "print('Площадь какой фигуры вы хотите вычислить')\n",
    "figure = int(input('Если круг введите 1, треугольник - 2, прямоугольник - 3 '))\n",
    "if figure == 1:\n",
    "    #radius = int(input('Введите радиус круга: '))\n",
    "    print('Площадь круга:' , 3.14*(int(input('Введите длину радиуса круга: '))**2))\n",
    "elif figure == 2:\n",
    "    print('Введите длины сторон стреугольника')\n",
    "    a = int(input('1 - сторона: '))\n",
    "    b = int(input('2 - сторона: '))\n",
    "    c = int(input('3 - сторона: '))\n",
    "    p = (a + b + c)/2\n",
    "    s = p * (p - a) * (p - b) * (p - c)\n",
    "    print('Площадь треугольника:', pow( p * (p - a) * (p - b) * (p - c), .5))\n",
    "elif figure == 3:\n",
    "    print('Введите длины сторон прямоугольника')\n",
    "    print('Полощадь прямоугольника:', int(input('Введите длину первой стороны прямоугольника: ')) * int(input('Введите длину второй стороны прямоугольника: ')))\n",
    "else:\n",
    "    print('Не верно введено число')"
   ]
  }
 ],
 "metadata": {
  "kernelspec": {
   "display_name": "Python 3",
   "language": "python",
   "name": "python3"
  },
  "language_info": {
   "codemirror_mode": {
    "name": "ipython",
    "version": 3
   },
   "file_extension": ".py",
   "mimetype": "text/x-python",
   "name": "python",
   "nbconvert_exporter": "python",
   "pygments_lexer": "ipython3",
   "version": "3.8.5"
  }
 },
 "nbformat": 4,
 "nbformat_minor": 4
}
