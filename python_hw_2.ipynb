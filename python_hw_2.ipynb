{
 "cells": [
  {
   "cell_type": "markdown",
   "metadata": {},
   "source": [
    "# \"Введение в типы данных и циклы. Часть 1\""
   ]
  },
  {
   "cell_type": "markdown",
   "metadata": {},
   "source": [
    "## Задание 1"
   ]
  },
  {
   "cell_type": "code",
   "execution_count": 31,
   "metadata": {
    "scrolled": true
   },
   "outputs": [
    {
     "name": "stdout",
     "output_type": "stream",
     "text": [
      "es\n"
     ]
    }
   ],
   "source": [
    "word = 'test'\n",
    "cnt = len(word)\n",
    "if cnt % 2 == 0:\n",
    "    print(word[int(cnt/2) - 1: int(cnt/2) +1 ])\n",
    "else:\n",
    "    print(word[int(cnt/2)])"
   ]
  },
  {
   "cell_type": "markdown",
   "metadata": {},
   "source": [
    "## Задание 2"
   ]
  },
  {
   "cell_type": "code",
   "execution_count": 59,
   "metadata": {},
   "outputs": [
    {
     "name": "stdout",
     "output_type": "stream",
     "text": [
      "Введите число: 1\n",
      "Введите число: 2\n",
      "Введите число: 3\n",
      "Введите число: 0\n",
      "Результат:  6\n"
     ]
    }
   ],
   "source": [
    "total = 0\n",
    "num = 1\n",
    "while num != 0:\n",
    "    num = int(input('Введите число: '))\n",
    "    total = total + num\n",
    "print('Результат: ',total)"
   ]
  },
  {
   "cell_type": "markdown",
   "metadata": {},
   "source": [
    "## Задание 3"
   ]
  },
  {
   "cell_type": "code",
   "execution_count": 74,
   "metadata": {},
   "outputs": [
    {
     "name": "stdout",
     "output_type": "stream",
     "text": [
      "Результат:\n",
      "Внимание, кто-то может остаться без пары!\n"
     ]
    }
   ],
   "source": [
    "boys = ['Peter', 'Alex', 'John', 'Arthur', 'Richard', 'Michael']\n",
    "girls = ['Kate', 'Liza', 'Kira', 'Emma', 'Trisha']\n",
    "print('Результат:')\n",
    "if len(boys) == len(girls):\n",
    "    boys_and_girls = zip(sorted(boys), sorted(girls))\n",
    "    print('Идеальные пары:')\n",
    "    for rec in list(boys_and_girls):\n",
    "        list(rec)\n",
    "        print (rec[0], ' и ', rec[1])\n",
    "else:\n",
    "    print('Внимание, кто-то может остаться без пары!')\n",
    "        "
   ]
  },
  {
   "cell_type": "markdown",
   "metadata": {},
   "source": [
    "## Задание 4"
   ]
  },
  {
   "cell_type": "code",
   "execution_count": 90,
   "metadata": {},
   "outputs": [
    {
     "name": "stdout",
     "output_type": "stream",
     "text": [
      "Thailand  -  23.9  C\n",
      "Germany  -  13.8  C\n",
      "Russia  -  3.7  C\n",
      "Poland  -  12.0  C\n"
     ]
    }
   ],
   "source": [
    "countries_temperature = [\n",
    "    ['Thailand', [75.2, 77, 78.8, 73.4, 68, 75.2, 77]],\n",
    "    ['Germany', [57.2, 55.4, 59, 59, 53.6]],\n",
    "    ['Russia', [35.6, 37.4, 39.2, 41, 42.8, 39.2, 35.6]],\n",
    "    ['Poland', [50, 50, 53.6, 57.2, 55.4, 55.4]]\n",
    "]\n",
    "for countries in countries_temperature:\n",
    "    sum_temp = 0\n",
    "    cnt = len(countries[1])\n",
    "    for temp in countries[1]:\n",
    "        sum_temp = sum_temp + temp\n",
    "    print(countries[0] , ' - ', round((sum_temp/cnt - 32)*5/9 , 1), ' C' )\n",
    "        "
   ]
  },
  {
   "cell_type": "markdown",
   "metadata": {},
   "source": [
    "## Задание 5 (необязательное)"
   ]
  },
  {
   "cell_type": "code",
   "execution_count": 148,
   "metadata": {
    "scrolled": true
   },
   "outputs": [
    {
     "name": "stdout",
     "output_type": "stream",
     "text": [
      "Среднее количество просмотров на уникального пользователя:  145.33\n"
     ]
    }
   ],
   "source": [
    "stream = [\n",
    "    '2018-01-01,user100,150',\n",
    "    '2018-01-07,user99,205',\n",
    "    '2018-03-29,user1001,81'\n",
    "]\n",
    "sum_view = 0\n",
    "cnt_user = 0\n",
    "for rec in stream:\n",
    "    log_list = rec.split(',')\n",
    "    if cnt_user == 0:\n",
    "        unic_list = log_list[1]\n",
    "        sum_view += int(log_list[2])\n",
    "        cnt_user += 1\n",
    "    else:\n",
    "        if log_list[1] in unic_list:\n",
    "            sum_view += int(log_list[2])\n",
    "        else:\n",
    "            #list(unic_list)\n",
    "            unic_list += log_list[1]\n",
    "            sum_view += int(log_list[2])\n",
    "            cnt_user += 1\n",
    "            \n",
    "print('Среднее количество просмотров на уникального пользователя: ', round(sum_view/cnt_user, 2))\n"
   ]
  },
  {
   "cell_type": "markdown",
   "metadata": {},
   "source": [
    "## Задание 6 (необязательное)"
   ]
  },
  {
   "cell_type": "code",
   "execution_count": 168,
   "metadata": {},
   "outputs": [
    {
     "name": "stdout",
     "output_type": "stream",
     "text": [
      "Введите числа разделенные пробелом1 1 1 3 3 2 22\n",
      "Результат:  1 3\n"
     ]
    }
   ],
   "source": [
    "nums = str(input('Введите числа разделенные пробелом'))\n",
    "num_list = nums.split(' ')\n",
    "rez_list = ''\n",
    "for num in num_list:\n",
    "    if num_list.count(num) > 1:\n",
    "        if num not in rez_list:\n",
    "            rez_list += ' ' +  num\n",
    "print('Результат:', rez_list)"
   ]
  }
 ],
 "metadata": {
  "kernelspec": {
   "display_name": "Python 3",
   "language": "python",
   "name": "python3"
  },
  "language_info": {
   "codemirror_mode": {
    "name": "ipython",
    "version": 3
   },
   "file_extension": ".py",
   "mimetype": "text/x-python",
   "name": "python",
   "nbconvert_exporter": "python",
   "pygments_lexer": "ipython3",
   "version": "3.8.5"
  }
 },
 "nbformat": 4,
 "nbformat_minor": 4
}
