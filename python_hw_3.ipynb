{
 "cells": [
  {
   "cell_type": "markdown",
   "metadata": {},
   "source": [
    "# Домашнее задание к лекции \"Введение в типы данных и циклы. Часть 2\""
   ]
  },
  {
   "cell_type": "markdown",
   "metadata": {},
   "source": [
    "## Задание 1"
   ]
  },
  {
   "cell_type": "code",
   "execution_count": 27,
   "metadata": {
    "scrolled": true
   },
   "outputs": [
    {
     "name": "stdout",
     "output_type": "stream",
     "text": [
      "Результат:  {98, 35, 213, 54, 119, 15}\n"
     ]
    }
   ],
   "source": [
    "ids = {'user1': [213, 213, 213, 15, 213], \n",
    "       'user2': [54, 54, 119, 119, 119], \n",
    "       'user3': [213, 98, 98, 35]}\n",
    "uniq = set()\n",
    "for key, value in ids.items():\n",
    "    uniq = uniq.union(set(value)) \n",
    "print('Результат: ',uniq)"
   ]
  },
  {
   "cell_type": "markdown",
   "metadata": {},
   "source": [
    "## Задание 2"
   ]
  },
  {
   "cell_type": "code",
   "execution_count": 54,
   "metadata": {},
   "outputs": [
    {
     "name": "stdout",
     "output_type": "stream",
     "text": [
      "Поисковых запросов, содержащих  3 слов(а):  57.14\n",
      "Поисковых запросов, содержащих  2 слов(а):  42.86\n"
     ]
    }
   ],
   "source": [
    "queries = [\n",
    "    'смотреть сериалы онлайн',\n",
    "    'новости спорта',\n",
    "    'афиша кино',\n",
    "    'курс доллара',\n",
    "    'сериалы этим летом',\n",
    "    'курс по питону',\n",
    "    'сериалы про спорт',\n",
    "]\n",
    "uniq_num_val = dict()\n",
    "for rec in queries:\n",
    "    cnt_words = len(rec.split(' '))\n",
    "    if cnt_words not in uniq_num_val:\n",
    "        uniq_num_val[cnt_words] = 1\n",
    "    else:\n",
    "        uniq_num_val[cnt_words]  += 1\n",
    "for keys, value  in uniq_num_val.items():\n",
    "    print('Поисковых запросов, содержащих ', keys, 'слов(а): ', round(100*value/len(queries),2))"
   ]
  },
  {
   "cell_type": "markdown",
   "metadata": {},
   "source": [
    "## Задание 3"
   ]
  },
  {
   "cell_type": "code",
   "execution_count": 64,
   "metadata": {},
   "outputs": [
    {
     "name": "stdout",
     "output_type": "stream",
     "text": [
      "{'vk': {'revenue': 103, 'cost': 98, 'ROI': 5.1}, 'yandex': {'revenue': 179, 'cost': 153, 'ROI': 17.0}, 'facebook': {'revenue': 103, 'cost': 110, 'ROI': -6.4}, 'adwords': {'revenue': 35, 'cost': 34, 'ROI': 2.9}, 'twitter': {'revenue': 11, 'cost': 24, 'ROI': -54.2}}\n"
     ]
    }
   ],
   "source": [
    "results = {\n",
    "    'vk': {'revenue': 103, 'cost': 98},\n",
    "    'yandex': {'revenue': 179, 'cost': 153},\n",
    "    'facebook': {'revenue': 103, 'cost': 110},\n",
    "    'adwords': {'revenue': 35, 'cost': 34},\n",
    "    'twitter': {'revenue': 11, 'cost': 24},\n",
    "}\n",
    "for key, value in results.items():\n",
    "    value['ROI'] = round((value['revenue']/value['cost'] - 1)*100, 1)\n",
    "print(results)"
   ]
  },
  {
   "cell_type": "markdown",
   "metadata": {},
   "source": [
    "## Задание 4"
   ]
  },
  {
   "cell_type": "code",
   "execution_count": 67,
   "metadata": {},
   "outputs": [
    {
     "name": "stdout",
     "output_type": "stream",
     "text": [
      "Результат: Максимальный объем продаж на рекламном канале:  vk\n"
     ]
    }
   ],
   "source": [
    "stats = {'facebook': 55, 'yandex': 115, 'vk': 120, 'google': 99, 'email': 42, 'ok': 98}\n",
    "max_channel = ''\n",
    "max_sale = 0\n",
    "for key, value in stats.items():\n",
    "    if value > max_sale:\n",
    "        max_sale = value\n",
    "        max_chanel = key\n",
    "print('Результат: Максимальный объем продаж на рекламном канале: ', max_chanel)"
   ]
  },
  {
   "cell_type": "markdown",
   "metadata": {},
   "source": [
    "## Задание 5 (необязательно)"
   ]
  },
  {
   "cell_type": "code",
   "execution_count": null,
   "metadata": {},
   "outputs": [],
   "source": [
    "my_list = ['2018-01-01', 'yandex', 'cpc', 100]\n",
    "temp_dict = {}\n",
    "my_dict = {}\n",
    "my_list.reverse()\n",
    "flag = 1\n",
    "for rec in my_list:\n",
    "    if flag == 1:\n",
    "        flag += 1\n",
    "        continue\n",
    "    elif flag == 2:\n",
    "        flag += 1\n",
    "        my_dict[rec] = my_list[0]\n",
    "    else:\n",
    "        temp_dict[rec] = my_dict\n",
    "        my_dict = temp_dict.copy()\n",
    "        temp_dict.pop(rec) \n",
    "print(my_dict)    \n"
   ]
  },
  {
   "cell_type": "markdown",
   "metadata": {},
   "source": [
    "## Задание 6 (необязательно)"
   ]
  },
  {
   "cell_type": "code",
   "execution_count": 50,
   "metadata": {},
   "outputs": [
    {
     "name": "stdout",
     "output_type": "stream",
     "text": [
      "Введите количество порций: 3\n",
      "Результат:\n",
      "\n",
      "Сыр : 210 гр\n",
      "Томаты : 6 шт\n",
      "Огурцы : 60 гр\n",
      "Маслины : 30 гр\n",
      "Оливковое Масло : 60 мл\n",
      "Салат : 30 гр\n",
      "Перец : 60 гр\n",
      "Колбаса : 90 гр\n",
      "Бекон : 90 гр\n",
      "Оливки : 30 гр\n",
      "Томаты : 60 гр\n",
      "Тесто : 300 гр\n",
      "Лимон : 3 шт\n",
      "Вода : 600 мл\n",
      "Сахар : 30 гр\n",
      "Лайм : 60 гр\n"
     ]
    }
   ],
   "source": [
    "cook_book = {\n",
    "  'салат': [\n",
    "     {'ingridient_name': 'сыр', 'quantity': 50, 'measure': 'гр'},\n",
    "     {'ingridient_name': 'томаты', 'quantity': 2, 'measure': 'шт'},\n",
    "     {'ingridient_name': 'огурцы', 'quantity': 20, 'measure': 'гр'},\n",
    "     {'ingridient_name': 'маслины', 'quantity': 10, 'measure': 'гр'},\n",
    "     {'ingridient_name': 'оливковое масло', 'quantity': 20, 'measure': 'мл'},\n",
    "     {'ingridient_name': 'салат', 'quantity': 10, 'measure': 'гр'},\n",
    "     {'ingridient_name': 'перец', 'quantity': 20, 'measure': 'гр'}\n",
    "    ],\n",
    "  'пицца': [\n",
    "     {'ingridient_name': 'сыр', 'quantity': 20, 'measure': 'гр'},\n",
    "     {'ingridient_name': 'колбаса', 'quantity': 30, 'measure': 'гр'},\n",
    "     {'ingridient_name': 'бекон', 'quantity': 30, 'measure': 'гр'},\n",
    "     {'ingridient_name': 'оливки', 'quantity': 10, 'measure': 'гр'},\n",
    "     {'ingridient_name': 'томаты', 'quantity': 20, 'measure': 'гр'},\n",
    "     {'ingridient_name': 'тесто', 'quantity': 100, 'measure': 'гр'},   \n",
    "    ],\n",
    "  'лимонад': [\n",
    "     {'ingridient_name': 'лимон', 'quantity': 1, 'measure': 'шт'},\n",
    "     {'ingridient_name': 'вода', 'quantity': 200, 'measure': 'мл'},\n",
    "     {'ingridient_name': 'сахар', 'quantity': 10, 'measure': 'гр'},\n",
    "     {'ingridient_name': 'лайм', 'quantity': 20, 'measure': 'гр'},    \n",
    "    ]\n",
    "}\n",
    "num_clients = int(input('Введите количество порций: '))\n",
    "print('Результат:')\n",
    "print('')\n",
    "ingr = {}\n",
    "for dish, values in cook_book.items():\n",
    "    for rec in values:\n",
    "        if rec['ingridient_name'] + '_' + rec['measure'] in ingr:\n",
    "            ingr[rec['ingridient_name'] + '_' + rec['measure']]['quantity'] += rec['quantity']\n",
    "        else:\n",
    "            ingr[rec['ingridient_name'] + '_' + rec['measure']] = {'quantity': rec['quantity'],  'measure': rec['measure']}\n",
    "for ing, val in ingr.items():\n",
    "    print( ing[:ing.find('_')].title() ,':', val['quantity']*num_clients, val['measure'])\n"
   ]
  },
  {
   "cell_type": "code",
   "execution_count": null,
   "metadata": {},
   "outputs": [],
   "source": []
  }
 ],
 "metadata": {
  "kernelspec": {
   "display_name": "Python 3",
   "language": "python",
   "name": "python3"
  },
  "language_info": {
   "codemirror_mode": {
    "name": "ipython",
    "version": 3
   },
   "file_extension": ".py",
   "mimetype": "text/x-python",
   "name": "python",
   "nbconvert_exporter": "python",
   "pygments_lexer": "ipython3",
   "version": "3.8.5"
  }
 },
 "nbformat": 4,
 "nbformat_minor": 4
}
