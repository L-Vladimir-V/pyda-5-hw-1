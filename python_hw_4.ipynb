{
 "cells": [
  {
   "cell_type": "markdown",
   "metadata": {},
   "source": [
    "# Домашнее задание к лекции \"Функции\""
   ]
  },
  {
   "cell_type": "markdown",
   "metadata": {},
   "source": [
    "## Задание 1 +  Задание 2 (необязательное)"
   ]
  },
  {
   "cell_type": "code",
   "execution_count": 1,
   "metadata": {},
   "outputs": [],
   "source": [
    "documents = [\n",
    " {'type': 'passport', 'number': '2207 876234', 'name': 'Василий Гупкин'},\n",
    " {'type': 'invoice', 'number': '11-2', 'name': 'Геннадий Покемонов'},\n",
    " {'type': 'insurance', 'number': '10006', 'name': 'Аристарх Павлов'}\n",
    "]"
   ]
  },
  {
   "cell_type": "code",
   "execution_count": 2,
   "metadata": {},
   "outputs": [],
   "source": [
    "directories = {\n",
    " '1': ['2207 876234', '11-2'],\n",
    " '2': ['10006'],\n",
    " '3': []\n",
    "}"
   ]
  },
  {
   "cell_type": "code",
   "execution_count": 4,
   "metadata": {},
   "outputs": [],
   "source": [
    "def doc_num ():\n",
    "    return(input('Введите номер документа: ').lower())"
   ]
  },
  {
   "cell_type": "code",
   "execution_count": 5,
   "metadata": {},
   "outputs": [],
   "source": [
    "def is_doc_found(is_found):\n",
    "    if is_found == 0:\n",
    "        return('Документ не найден в базе') "
   ]
  },
  {
   "cell_type": "code",
   "execution_count": 6,
   "metadata": {},
   "outputs": [],
   "source": [
    "def get_direct(doc):\n",
    "    for key, direct in directories.items():\n",
    "        if doc in direct:\n",
    "            return(key)"
   ]
  },
  {
   "cell_type": "code",
   "execution_count": 7,
   "metadata": {},
   "outputs": [],
   "source": [
    "def get_user(doc):\n",
    "    for docs in documents:\n",
    "        if docs['number'] == doc:\n",
    "            return(docs['name'])"
   ]
  },
  {
   "cell_type": "code",
   "execution_count": 8,
   "metadata": {},
   "outputs": [],
   "source": [
    "def all_direct():\n",
    "    return('Текущий перечень полок: ' + ', '.join (list(directories.keys())))    "
   ]
  },
  {
   "cell_type": "code",
   "execution_count": 9,
   "metadata": {},
   "outputs": [],
   "source": [
    "def all_documents():\n",
    "    print('Текущий список документов:')\n",
    "    for rec in documents:\n",
    "        print('№:', rec['number'], ',тип:', rec['type'], ', владелец:', rec['name'], 'полка хранения:', get_direct(rec['number']))"
   ]
  },
  {
   "cell_type": "code",
   "execution_count": 10,
   "metadata": {},
   "outputs": [],
   "source": [
    "def is_doc_in_documents(doc):\n",
    "    flag = 0\n",
    "    for docs in documents:\n",
    "        if docs['number'] == doc:\n",
    "            flag = 1\n",
    "            break\n",
    "    return flag"
   ]
  },
  {
   "cell_type": "code",
   "execution_count": 11,
   "metadata": {},
   "outputs": [],
   "source": [
    "def comand_p ():\n",
    "    doc = doc_num()\n",
    "    if get_user(doc) == None:\n",
    "        print('Документ не найден в базе')\n",
    "    else:\n",
    "        print('Владелец документа: ', get_user(doc))"
   ]
  },
  {
   "cell_type": "code",
   "execution_count": 12,
   "metadata": {},
   "outputs": [],
   "source": [
    "def comand_s ():\n",
    "    doc = doc_num()\n",
    "    if get_direct(doc) == None:\n",
    "        print('Документ не найден в базе')\n",
    "    else:\n",
    "        print('Документ хранится на полке: ', get_direct(doc))"
   ]
  },
  {
   "cell_type": "code",
   "execution_count": 22,
   "metadata": {},
   "outputs": [],
   "source": [
    "def comand_ads():\n",
    "    num_direct = input('Введите номер полки:')\n",
    "    if num_direct in directories:\n",
    "        print('Такая полка уже существует.', all_direct())\n",
    "    else:\n",
    "        directories[num_direct] = []\n",
    "        print('Полка добавлена.', all_direct())"
   ]
  },
  {
   "cell_type": "code",
   "execution_count": 14,
   "metadata": {},
   "outputs": [],
   "source": [
    "def comand_ds():\n",
    "    direct4del = input('Введите номер полки:')\n",
    "    if direct4del in directories:\n",
    "        if len(directories[direct4del]) > 0:\n",
    "            print('На полке есть документы, удалите их перед удалением полки. ', all_direct()) \n",
    "        else:\n",
    "            del(directories[direct4del])\n",
    "            print('Полка удалена. ', all_direct())\n",
    "    else:\n",
    "        print('Такой полки не существует. ', all_direct())"
   ]
  },
  {
   "cell_type": "code",
   "execution_count": 15,
   "metadata": {},
   "outputs": [],
   "source": [
    "def comand_ad():\n",
    "    doc_type = input('Введите тип документа: ')\n",
    "    doc = doc_num()\n",
    "    doc_name = input('Введите владельца документа:')\n",
    "    doc_direct = input('Введите полку для хранения: ')\n",
    "    if doc_direct in directories:\n",
    "        documents.append({'type': doc_type, 'number': doc, 'name': doc_name})\n",
    "        directories[doc_direct].append(doc)\n",
    "        print('Документ добавлен.')\n",
    "        all_documents()\n",
    "    else:\n",
    "        print('Такой полки не существует. Добавьте полку командой ads.')\n",
    "        all_documents()"
   ]
  },
  {
   "cell_type": "code",
   "execution_count": 16,
   "metadata": {},
   "outputs": [],
   "source": [
    "def comand_d():\n",
    "    doc = doc_num()\n",
    "    if is_doc_in_documents(doc) == 1:\n",
    "        for i, rec in enumerate(documents):\n",
    "            if rec['number'] == doc:\n",
    "                directories[get_direct(doc)].remove(doc)\n",
    "                del(documents[i])              \n",
    "                print('Документ удален.')\n",
    "                all_documents()\n",
    "    else:\n",
    "        print('Документ не найден в базе.')\n",
    "        all_documents()"
   ]
  },
  {
   "cell_type": "code",
   "execution_count": 18,
   "metadata": {},
   "outputs": [],
   "source": [
    "def comand_m():\n",
    "    doc_direct = input('Введите номер полки: ')\n",
    "    if doc_direct not in directories:\n",
    "        print('Такой полки не существует. ', all_direct())\n",
    "    else:\n",
    "        doc = doc_num()\n",
    "        if is_doc_in_documents(doc) == 0:\n",
    "            print('Документ не найден в базе.')\n",
    "            all_documents()\n",
    "        else:\n",
    "            directories[get_direct(doc)].remove(doc)\n",
    "            directories[doc_direct].append(doc)\n",
    "            print('Документ перемещен.')\n",
    "            all_documents()"
   ]
  },
  {
   "cell_type": "code",
   "execution_count": 23,
   "metadata": {
    "scrolled": true
   },
   "outputs": [
    {
     "name": "stdout",
     "output_type": "stream",
     "text": [
      "Введите команду: ads\n",
      "Введите номер полки:5\n",
      "Полка добавлена. Текущий перечень полок: 1, 2, 3, 5\n",
      "\n",
      "Введите команду: q\n",
      "Работа завершена\n"
     ]
    }
   ],
   "source": [
    "comand = input('Введите команду: ').lower()\n",
    "while comand != 'q':\n",
    "    if comand == 'p':\n",
    "        comand_p()\n",
    "    elif comand == 's':\n",
    "        comand_s()\n",
    "    elif comand == 'l':\n",
    "        all_documents()\n",
    "    elif comand == 'ads':\n",
    "        comand_ads()\n",
    "    elif comand == 'ds':\n",
    "        comand_ds()\n",
    "    elif comand == 'ad':\n",
    "        comand_ad()\n",
    "    elif comand == 'd':\n",
    "        comand_d()\n",
    "    elif comand == 'm':\n",
    "        comand_m()\n",
    "    elif comand not in ['p','s','q','ads','ds','l','ad','d','m']:\n",
    "        print('Команда не обнаружена')\n",
    "    print('')\n",
    "    comand = input('Введите команду: ').lower()\n",
    "print('Работа завершена')"
   ]
  }
 ],
 "metadata": {
  "kernelspec": {
   "display_name": "Python 3",
   "language": "python",
   "name": "python3"
  },
  "language_info": {
   "codemirror_mode": {
    "name": "ipython",
    "version": 3
   },
   "file_extension": ".py",
   "mimetype": "text/x-python",
   "name": "python",
   "nbconvert_exporter": "python",
   "pygments_lexer": "ipython3",
   "version": "3.8.5"
  }
 },
 "nbformat": 4,
 "nbformat_minor": 4
}
