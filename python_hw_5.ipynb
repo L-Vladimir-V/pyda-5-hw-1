{
 "cells": [
  {
   "cell_type": "markdown",
   "metadata": {},
   "source": [
    "# Работа с файлами"
   ]
  },
  {
   "cell_type": "markdown",
   "metadata": {},
   "source": [
    "## Задание 1"
   ]
  },
  {
   "cell_type": "code",
   "execution_count": 2,
   "metadata": {},
   "outputs": [],
   "source": [
    "import json\n",
    "putschases = {}\n",
    "dict_ = {}\n",
    "with open('purchase_log.txt','r', encoding='utf-8') as f:\n",
    "    for i, line in enumerate(f):\n",
    "        if i > 1:\n",
    "            dict_ = json.loads(line)\n",
    "            putschases[dict_['user_id']] = dict_['category']"
   ]
  },
  {
   "cell_type": "markdown",
   "metadata": {},
   "source": [
    "## Задание 2"
   ]
  },
  {
   "cell_type": "code",
   "execution_count": 32,
   "metadata": {},
   "outputs": [],
   "source": [
    "list_ = []\n",
    "fun = open('funnel.csv','w')\n",
    "with open('visit_log.csv','r', encoding='utf-8') as v:\n",
    "    for i, line in enumerate(v):\n",
    "        list_ = line.strip().split(',')\n",
    "        if list_[0] in putschases:\n",
    "            list_.append(putschases[list_[0]])\n",
    "            fun.write(','.join(list_)+'\\n')"
   ]
  }
 ],
 "metadata": {
  "kernelspec": {
   "display_name": "Python 3",
   "language": "python",
   "name": "python3"
  },
  "language_info": {
   "codemirror_mode": {
    "name": "ipython",
    "version": 3
   },
   "file_extension": ".py",
   "mimetype": "text/x-python",
   "name": "python",
   "nbconvert_exporter": "python",
   "pygments_lexer": "ipython3",
   "version": "3.8.5"
  }
 },
 "nbformat": 4,
 "nbformat_minor": 4
}
